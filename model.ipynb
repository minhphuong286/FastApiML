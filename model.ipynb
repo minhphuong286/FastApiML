{
 "cells": [
  {
   "cell_type": "code",
   "execution_count": 1,
   "id": "be8a6667-fdcf-4b89-b4a5-4de7af7c8784",
   "metadata": {},
   "outputs": [],
   "source": [
    "import pandas as pd\n",
    "from tensorflow.keras.preprocessing.text import Tokenizer\n",
    "from tensorflow.keras.preprocessing.sequence import pad_sequences\n",
    "from tensorflow.keras.models import Sequential\n",
    "from tensorflow.keras.layers import Dense, Embedding, LSTM, SpatialDropout1D\n",
    "from sklearn.model_selection import train_test_split\n",
    "import re"
   ]
  },
  {
   "cell_type": "code",
   "execution_count": 2,
   "id": "06ff60eb-0910-4e95-81c3-21425bf2fc2e",
   "metadata": {},
   "outputs": [],
   "source": [
    "data = pd.read_csv('archive/Sentiment.csv')\n",
    "\n",
    "# Keeping only the neccessary columns\n",
    "data = data[['text','sentiment']]"
   ]
  },
  {
   "cell_type": "code",
   "execution_count": 3,
   "id": "5e1e557b-1932-43cc-913c-3c14032fcdb8",
   "metadata": {},
   "outputs": [],
   "source": [
    "def preProcess_data(text):\n",
    "    text = text.lower()\n",
    "    new_text = re.sub('[^a-zA-z0-9\\s]','',text)\n",
    "    new_text = re.sub('rt', '', new_text)\n",
    "    return new_text\n",
    "\n",
    "data['text'] = data['text'].apply(preProcess_data)"
   ]
  },
  {
   "cell_type": "code",
   "execution_count": 4,
   "id": "62e95cc1-37e1-4835-aa99-12c4149000cd",
   "metadata": {},
   "outputs": [],
   "source": [
    "max_fatures = 2000\n",
    "\n",
    "tokenizer = Tokenizer(num_words=max_fatures, split=' ')\n",
    "tokenizer.fit_on_texts(data['text'].values)\n",
    "X = tokenizer.texts_to_sequences(data['text'].values)\n",
    "X = pad_sequences(X, 28) \n",
    "\n",
    "Y = pd.get_dummies(data['sentiment']).values"
   ]
  },
  {
   "cell_type": "code",
   "execution_count": 5,
   "id": "e42809df-fdca-4801-9eb6-a33b5348925c",
   "metadata": {},
   "outputs": [],
   "source": [
    "X_train, X_test, Y_train, Y_test = train_test_split(X,Y, test_size = 0.20)"
   ]
  },
  {
   "cell_type": "code",
   "execution_count": 6,
   "id": "e389d0a8-97b3-4396-b78b-2b0acf37bcb8",
   "metadata": {},
   "outputs": [],
   "source": [
    "embed_dim = 128\n",
    "lstm_out = 196\n",
    "\n",
    "model = Sequential()\n",
    "model.add(Embedding(max_fatures, embed_dim,input_length = X.shape[1]))\n",
    "model.add(SpatialDropout1D(0.4))\n",
    "model.add(LSTM(lstm_out, dropout=0.3, recurrent_dropout=0.2, return_sequences=True))\n",
    "model.add(LSTM(128,recurrent_dropout=0.2))\n",
    "model.add(Dense(3,activation='softmax'))\n",
    "\n",
    "model.compile(loss = 'categorical_crossentropy', optimizer='adam',metrics = ['accuracy'])\n"
   ]
  },
  {
   "cell_type": "code",
   "execution_count": 7,
   "id": "af37cb40-2735-4d06-abfa-7d5213360020",
   "metadata": {},
   "outputs": [
    {
     "name": "stdout",
     "output_type": "stream",
     "text": [
      "Epoch 1/10\n",
      "22/22 [==============================] - 55s 2s/step - loss: 0.9581 - accuracy: 0.6014 - val_loss: 0.9113 - val_accuracy: 0.6105\n",
      "Epoch 2/10\n",
      "22/22 [==============================] - 50s 2s/step - loss: 0.8527 - accuracy: 0.6182 - val_loss: 0.7900 - val_accuracy: 0.6483\n",
      "Epoch 3/10\n",
      "22/22 [==============================] - 49s 2s/step - loss: 0.7546 - accuracy: 0.6642 - val_loss: 0.7349 - val_accuracy: 0.6822\n",
      "Epoch 4/10\n",
      "22/22 [==============================] - 51s 2s/step - loss: 0.6954 - accuracy: 0.6970 - val_loss: 0.7047 - val_accuracy: 0.6933\n",
      "Epoch 5/10\n",
      "22/22 [==============================] - 51s 2s/step - loss: 0.6518 - accuracy: 0.7203 - val_loss: 0.7141 - val_accuracy: 0.6937\n",
      "Epoch 6/10\n",
      "22/22 [==============================] - 57s 3s/step - loss: 0.6338 - accuracy: 0.7296 - val_loss: 0.7091 - val_accuracy: 0.6937\n",
      "Epoch 7/10\n",
      "22/22 [==============================] - 64s 3s/step - loss: 0.6026 - accuracy: 0.7405 - val_loss: 0.7098 - val_accuracy: 0.6973\n",
      "Epoch 8/10\n",
      "22/22 [==============================] - 64s 3s/step - loss: 0.5916 - accuracy: 0.7523 - val_loss: 0.7131 - val_accuracy: 0.6937\n",
      "Epoch 9/10\n",
      "22/22 [==============================] - 66s 3s/step - loss: 0.5737 - accuracy: 0.7570 - val_loss: 0.7227 - val_accuracy: 0.6944\n",
      "Epoch 10/10\n",
      "22/22 [==============================] - 66s 3s/step - loss: 0.5669 - accuracy: 0.7615 - val_loss: 0.7371 - val_accuracy: 0.6969\n"
     ]
    },
    {
     "data": {
      "text/plain": [
       "<keras.callbacks.History at 0x21ed743eb50>"
      ]
     },
     "execution_count": 7,
     "metadata": {},
     "output_type": "execute_result"
    }
   ],
   "source": [
    "batch_size = 512\n",
    "\n",
    "model.fit(X_train, Y_train, epochs = 10, batch_size=batch_size, validation_data=(X_test, Y_test))\n"
   ]
  },
  {
   "cell_type": "code",
   "execution_count": 8,
   "id": "cb200dfd-818e-47e7-afea-c4b549306f64",
   "metadata": {},
   "outputs": [],
   "source": [
    "model.save('sentiment.h5')"
   ]
  },
  {
   "cell_type": "code",
   "execution_count": null,
   "id": "2bb86f79-9e4b-4407-9881-7d7a483d5db8",
   "metadata": {},
   "outputs": [],
   "source": []
  }
 ],
 "metadata": {
  "kernelspec": {
   "display_name": "Python 3 (ipykernel)",
   "language": "python",
   "name": "python3"
  },
  "language_info": {
   "codemirror_mode": {
    "name": "ipython",
    "version": 3
   },
   "file_extension": ".py",
   "mimetype": "text/x-python",
   "name": "python",
   "nbconvert_exporter": "python",
   "pygments_lexer": "ipython3",
   "version": "3.9.9"
  }
 },
 "nbformat": 4,
 "nbformat_minor": 5
}
