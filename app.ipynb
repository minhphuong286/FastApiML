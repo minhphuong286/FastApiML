{
 "cells": [
  {
   "cell_type": "code",
   "execution_count": 1,
   "id": "badf2330-8394-437b-bb07-138c043097bc",
   "metadata": {},
   "outputs": [],
   "source": [
    "import numpy as np\n",
    "from fastapi import FastAPI, Form\n",
    "import pandas as pd\n",
    "from starlette.responses import HTMLResponse\n",
    "from tensorflow.keras.preprocessing.text import Tokenizer\n",
    "from tensorflow.keras.preprocessing.sequence import pad_sequences\n",
    "import tensorflow as tf\n",
    "import re"
   ]
  },
  {
   "cell_type": "code",
   "execution_count": 2,
   "id": "ce2263b6-8d9f-4774-a421-c38575566074",
   "metadata": {},
   "outputs": [],
   "source": [
    "app = FastAPI()\n",
    "\n",
    "@app.get('/predict', response_class=HTMLResponse)\n",
    "def take_inp():\n",
    "    return '''\n",
    "        <form method=\"post\">\n",
    "        <input maxlength=\"28\" name=\"text\" type=\"text\" value=\"Text Emotion to be tested\" />\n",
    "        <input type=\"submit\" />'''"
   ]
  },
  {
   "cell_type": "code",
   "execution_count": null,
   "id": "f53695ba-630c-47c8-8b36-1170ce2e1748",
   "metadata": {},
   "outputs": [],
   "source": []
  }
 ],
 "metadata": {
  "kernelspec": {
   "display_name": "Python 3 (ipykernel)",
   "language": "python",
   "name": "python3"
  },
  "language_info": {
   "codemirror_mode": {
    "name": "ipython",
    "version": 3
   },
   "file_extension": ".py",
   "mimetype": "text/x-python",
   "name": "python",
   "nbconvert_exporter": "python",
   "pygments_lexer": "ipython3",
   "version": "3.9.9"
  }
 },
 "nbformat": 4,
 "nbformat_minor": 5
}
